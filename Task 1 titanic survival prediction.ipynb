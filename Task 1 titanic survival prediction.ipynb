{
 "cells": [
  {
   "cell_type": "code",
   "execution_count": 1,
   "id": "9d80baaa-95d2-4f5f-a342-0c8c3dd0deee",
   "metadata": {},
   "outputs": [
    {
     "name": "stdout",
     "output_type": "stream",
     "text": [
      "Accuracy: 0.8212290502793296\n",
      "\n",
      "Classification Report:\n",
      "               precision    recall  f1-score   support\n",
      "\n",
      "           0       0.83      0.87      0.85       105\n",
      "           1       0.80      0.76      0.78        74\n",
      "\n",
      "    accuracy                           0.82       179\n",
      "   macro avg       0.82      0.81      0.81       179\n",
      "weighted avg       0.82      0.82      0.82       179\n",
      "\n"
     ]
    }
   ],
   "source": [
    "import pandas as pd\n",
    "import seaborn as sns\n",
    "from sklearn.model_selection import train_test_split\n",
    "from sklearn.ensemble import RandomForestClassifier\n",
    "from sklearn.metrics import accuracy_score, classification_report\n",
    "\n",
    "# 1. Load dataset\n",
    "titanic = sns.load_dataset('titanic')\n",
    "\n",
    "# 2. Drop rows with missing target values\n",
    "titanic = titanic.dropna(subset=['survived'])\n",
    "\n",
    "# 3. Select features and target\n",
    "features = ['pclass', 'sex', 'age', 'sibsp', 'parch', 'fare', 'embarked']\n",
    "titanic = titanic[features + ['survived']]\n",
    "\n",
    "# 4. Handle missing values\n",
    "# 4. Handle missing values\n",
    "titanic['age'] = titanic['age'].fillna(titanic['age'].median())\n",
    "titanic['embarked'] = titanic['embarked'].fillna(titanic['embarked'].mode()[0])\n",
    "\n",
    "\n",
    "# 5. Convert categorical variables\n",
    "titanic = pd.get_dummies(titanic, columns=['sex', 'embarked'], drop_first=True)\n",
    "\n",
    "# 6. Define features (X) and target (y)\n",
    "X = titanic.drop('survived', axis=1)\n",
    "y = titanic['survived']\n",
    "\n",
    "# 7. Train/test split\n",
    "X_train, X_test, y_train, y_test = train_test_split(X, y, test_size=0.2, random_state=42)\n",
    "\n",
    "# 8. Train the model\n",
    "model = RandomForestClassifier(n_estimators=100, random_state=42)\n",
    "model.fit(X_train, y_train)\n",
    "\n",
    "# 9. Predict on the test set\n",
    "y_pred = model.predict(X_test)\n",
    "\n",
    "# 10. Evaluation\n",
    "print(\"Accuracy:\", accuracy_score(y_test, y_pred))\n",
    "print(\"\\nClassification Report:\\n\", classification_report(y_test, y_pred))\n"
   ]
  }
 ],
 "metadata": {
  "kernelspec": {
   "display_name": "Python 3 (ipykernel)",
   "language": "python",
   "name": "python3"
  },
  "language_info": {
   "codemirror_mode": {
    "name": "ipython",
    "version": 3
   },
   "file_extension": ".py",
   "mimetype": "text/x-python",
   "name": "python",
   "nbconvert_exporter": "python",
   "pygments_lexer": "ipython3",
   "version": "3.12.4"
  }
 },
 "nbformat": 4,
 "nbformat_minor": 5
}
